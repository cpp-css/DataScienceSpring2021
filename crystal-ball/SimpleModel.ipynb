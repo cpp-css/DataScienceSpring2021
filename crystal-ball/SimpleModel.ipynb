{
 "cells": [
  {
   "cell_type": "code",
   "execution_count": 35,
   "id": "nominated-contest",
   "metadata": {},
   "outputs": [],
   "source": [
    "import pandas\n",
    "\n",
    "data = pandas.read_csv('./raw-data/MRNA.csv')\n",
    "data = data.drop(['Date'], 1)\n",
    "\n",
    "n = data.shape[0]\n",
    "p = data.shape[1]\n",
    "\n",
    "data = data.values"
   ]
  },
  {
   "cell_type": "code",
   "execution_count": 36,
   "id": "armed-diana",
   "metadata": {},
   "outputs": [],
   "source": [
    "# Training and test data\n",
    "import numpy\n",
    "train_start = 0\n",
    "train_end = int(numpy.floor(0.8*n))\n",
    "test_start = train_end\n",
    "test_end = n\n",
    "data_train = data[numpy.arange(train_start, train_end), :]\n",
    "data_test = data[numpy.arange(test_start, test_end), :]"
   ]
  },
  {
   "cell_type": "code",
   "execution_count": 37,
   "id": "twelve-asian",
   "metadata": {},
   "outputs": [],
   "source": [
    "# Scale data\n",
    "from sklearn.preprocessing import MinMaxScaler\n",
    "scaler = MinMaxScaler()\n",
    "data_train = scaler.fit_transform(data_train)\n",
    "data_test = scaler.transform(data_test)\n",
    "\n",
    "# Build x and y\n",
    "x_train = data_train[:, 1:]\n",
    "y_train = data_train[:, 0]\n",
    "x_test = data_test[:, 1:]\n",
    "y_test = data_test[:, 0]"
   ]
  },
  {
   "cell_type": "code",
   "execution_count": 49,
   "id": "plain-mineral",
   "metadata": {},
   "outputs": [
    {
     "name": "stdout",
     "output_type": "stream",
     "text": [
      "Epoch 1/5\n",
      "WARNING:tensorflow:Model was constructed with shape (None, 32, 5) for input KerasTensor(type_spec=TensorSpec(shape=(None, 32, 5), dtype=tf.float32, name='input_7'), name='input_7', description=\"created by layer 'input_7'\"), but it was called on an input with incompatible shape (32, 5).\n",
      "WARNING:tensorflow:Model was constructed with shape (None, 32, 5) for input KerasTensor(type_spec=TensorSpec(shape=(None, 32, 5), dtype=tf.float32, name='input_7'), name='input_7', description=\"created by layer 'input_7'\"), but it was called on an input with incompatible shape (32, 5).\n",
      "14/14 [==============================] - 0s 3ms/step - loss: 6.0725 - accuracy: 8.2088e-04\n",
      "Epoch 2/5\n",
      "14/14 [==============================] - 0s 2ms/step - loss: 5.1151 - accuracy: 0.0015\n",
      "Epoch 3/5\n",
      "14/14 [==============================] - 0s 2ms/step - loss: 3.0041 - accuracy: 4.5788e-04\n",
      "Epoch 4/5\n",
      "14/14 [==============================] - 0s 2ms/step - loss: 0.8960 - accuracy: 4.5788e-04\n",
      "Epoch 5/5\n",
      "14/14 [==============================] - 0s 2ms/step - loss: 0.1407 - accuracy: 0.0038\n"
     ]
    },
    {
     "data": {
      "text/plain": [
       "<tensorflow.python.keras.callbacks.History at 0x7f28646d48b0>"
      ]
     },
     "execution_count": 49,
     "metadata": {},
     "output_type": "execute_result"
    }
   ],
   "source": [
    "import tensorflow as tf\n",
    "\n",
    "model = tf.keras.models.Sequential([\n",
    "  tf.keras.layers.InputLayer(input_shape=(32, 5)),\n",
    "  tf.keras.layers.Dense(128, activation=\"relu\"),\n",
    "  tf.keras.layers.Dense(256, activation=\"relu\"),\n",
    "  tf.keras.layers.Dense(512)\n",
    "])\n",
    "\n",
    "model.compile(tf.optimizers.RMSprop(0.001), loss='mse')\n",
    "\n",
    "predictions = model(x_train[:1]).numpy()\n",
    "loss_fn = tf.keras.losses.SparseCategoricalCrossentropy(from_logits=True)\n",
    "loss_fn(y_train[:1], predictions).numpy()\n",
    "\n",
    "model.compile(optimizer='adam',\n",
    "              loss=loss_fn,\n",
    "              metrics=['accuracy'])\n",
    "\n",
    "model.fit(x_train, y_train, epochs=5)"
   ]
  },
  {
   "cell_type": "code",
   "execution_count": 30,
   "id": "electronic-syndrome",
   "metadata": {},
   "outputs": [
    {
     "name": "stdout",
     "output_type": "stream",
     "text": [
      "313/313 - 0s - loss: 0.0770 - accuracy: 0.9775\n"
     ]
    },
    {
     "data": {
      "text/plain": [
       "[0.07701567560434341, 0.9775000214576721]"
      ]
     },
     "execution_count": 30,
     "metadata": {},
     "output_type": "execute_result"
    }
   ],
   "source": [
    "model.evaluate(x_test,  y_test, verbose=2)"
   ]
  },
  {
   "cell_type": "code",
   "execution_count": null,
   "id": "technological-reputation",
   "metadata": {},
   "outputs": [],
   "source": []
  }
 ],
 "metadata": {
  "kernelspec": {
   "display_name": "Python 3",
   "language": "python",
   "name": "python3"
  },
  "language_info": {
   "codemirror_mode": {
    "name": "ipython",
    "version": 3
   },
   "file_extension": ".py",
   "mimetype": "text/x-python",
   "name": "python",
   "nbconvert_exporter": "python",
   "pygments_lexer": "ipython3",
   "version": "3.8.5"
  }
 },
 "nbformat": 4,
 "nbformat_minor": 5
}
